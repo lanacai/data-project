{
 "cells": [
  {
   "cell_type": "code",
   "execution_count": 2,
   "id": "cfbb728b-3479-484a-a28e-39f349c4194e",
   "metadata": {},
   "outputs": [],
   "source": [
    "import pandas as pd\n",
    "import seaborn as sns\n",
    "import matplotlib.pyplot as plt\n",
    "import numpy as np\n",
    "import datetime as dt"
   ]
  },
  {
   "cell_type": "code",
   "execution_count": 4,
   "id": "992a6e49-e18c-4cdb-8998-e342239523a7",
   "metadata": {},
   "outputs": [
    {
     "data": {
      "text/html": [
       "<div>\n",
       "<style scoped>\n",
       "    .dataframe tbody tr th:only-of-type {\n",
       "        vertical-align: middle;\n",
       "    }\n",
       "\n",
       "    .dataframe tbody tr th {\n",
       "        vertical-align: top;\n",
       "    }\n",
       "\n",
       "    .dataframe thead th {\n",
       "        text-align: right;\n",
       "    }\n",
       "</style>\n",
       "<table border=\"1\" class=\"dataframe\">\n",
       "  <thead>\n",
       "    <tr style=\"text-align: right;\">\n",
       "      <th></th>\n",
       "      <th>userid</th>\n",
       "      <th>version</th>\n",
       "      <th>sum_gamerounds</th>\n",
       "      <th>retention_1</th>\n",
       "      <th>retention_7</th>\n",
       "    </tr>\n",
       "  </thead>\n",
       "  <tbody>\n",
       "    <tr>\n",
       "      <th>0</th>\n",
       "      <td>116</td>\n",
       "      <td>gate_30</td>\n",
       "      <td>3</td>\n",
       "      <td>False</td>\n",
       "      <td>False</td>\n",
       "    </tr>\n",
       "    <tr>\n",
       "      <th>1</th>\n",
       "      <td>337</td>\n",
       "      <td>gate_30</td>\n",
       "      <td>38</td>\n",
       "      <td>True</td>\n",
       "      <td>False</td>\n",
       "    </tr>\n",
       "    <tr>\n",
       "      <th>2</th>\n",
       "      <td>377</td>\n",
       "      <td>gate_40</td>\n",
       "      <td>165</td>\n",
       "      <td>True</td>\n",
       "      <td>False</td>\n",
       "    </tr>\n",
       "    <tr>\n",
       "      <th>3</th>\n",
       "      <td>483</td>\n",
       "      <td>gate_40</td>\n",
       "      <td>1</td>\n",
       "      <td>False</td>\n",
       "      <td>False</td>\n",
       "    </tr>\n",
       "    <tr>\n",
       "      <th>4</th>\n",
       "      <td>488</td>\n",
       "      <td>gate_40</td>\n",
       "      <td>179</td>\n",
       "      <td>True</td>\n",
       "      <td>True</td>\n",
       "    </tr>\n",
       "  </tbody>\n",
       "</table>\n",
       "</div>"
      ],
      "text/plain": [
       "   userid  version  sum_gamerounds  retention_1  retention_7\n",
       "0     116  gate_30               3        False        False\n",
       "1     337  gate_30              38         True        False\n",
       "2     377  gate_40             165         True        False\n",
       "3     483  gate_40               1        False        False\n",
       "4     488  gate_40             179         True         True"
      ]
     },
     "execution_count": 4,
     "metadata": {},
     "output_type": "execute_result"
    }
   ],
   "source": [
    "df=pd.read_excel(\"cookie_cats.xlsx\")\n",
    "df.head()"
   ]
  },
  {
   "cell_type": "code",
   "execution_count": 5,
   "id": "fcf8df36-788d-472b-8f06-27a8c671fbea",
   "metadata": {},
   "outputs": [
    {
     "name": "stdout",
     "output_type": "stream",
     "text": [
      "<class 'pandas.core.frame.DataFrame'>\n",
      "RangeIndex: 90189 entries, 0 to 90188\n",
      "Data columns (total 5 columns):\n",
      " #   Column          Non-Null Count  Dtype \n",
      "---  ------          --------------  ----- \n",
      " 0   userid          90189 non-null  int64 \n",
      " 1   version         90189 non-null  object\n",
      " 2   sum_gamerounds  90189 non-null  int64 \n",
      " 3   retention_1     90189 non-null  bool  \n",
      " 4   retention_7     90189 non-null  bool  \n",
      "dtypes: bool(2), int64(2), object(1)\n",
      "memory usage: 2.2+ MB\n"
     ]
    }
   ],
   "source": [
    "df.info()"
   ]
  },
  {
   "cell_type": "markdown",
   "id": "d7424f65-cb84-436d-980d-44decb57d4e8",
   "metadata": {},
   "source": [
    "No missing value"
   ]
  },
  {
   "cell_type": "code",
   "execution_count": 8,
   "id": "462ac988-c56e-4483-939c-3432ffbadd76",
   "metadata": {},
   "outputs": [
    {
     "data": {
      "text/html": [
       "<div>\n",
       "<style scoped>\n",
       "    .dataframe tbody tr th:only-of-type {\n",
       "        vertical-align: middle;\n",
       "    }\n",
       "\n",
       "    .dataframe tbody tr th {\n",
       "        vertical-align: top;\n",
       "    }\n",
       "\n",
       "    .dataframe thead th {\n",
       "        text-align: right;\n",
       "    }\n",
       "</style>\n",
       "<table border=\"1\" class=\"dataframe\">\n",
       "  <thead>\n",
       "    <tr style=\"text-align: right;\">\n",
       "      <th></th>\n",
       "      <th>userid</th>\n",
       "      <th>sum_gamerounds</th>\n",
       "      <th>retention_1</th>\n",
       "      <th>retention_7</th>\n",
       "    </tr>\n",
       "    <tr>\n",
       "      <th>version</th>\n",
       "      <th></th>\n",
       "      <th></th>\n",
       "      <th></th>\n",
       "      <th></th>\n",
       "    </tr>\n",
       "  </thead>\n",
       "  <tbody>\n",
       "    <tr>\n",
       "      <th>gate_30</th>\n",
       "      <td>44700</td>\n",
       "      <td>44700</td>\n",
       "      <td>44700</td>\n",
       "      <td>44700</td>\n",
       "    </tr>\n",
       "    <tr>\n",
       "      <th>gate_40</th>\n",
       "      <td>45489</td>\n",
       "      <td>45489</td>\n",
       "      <td>45489</td>\n",
       "      <td>45489</td>\n",
       "    </tr>\n",
       "  </tbody>\n",
       "</table>\n",
       "</div>"
      ],
      "text/plain": [
       "         userid  sum_gamerounds  retention_1  retention_7\n",
       "version                                                  \n",
       "gate_30   44700           44700        44700        44700\n",
       "gate_40   45489           45489        45489        45489"
      ]
     },
     "execution_count": 8,
     "metadata": {},
     "output_type": "execute_result"
    }
   ],
   "source": [
    "df.groupby('version').count()"
   ]
  },
  {
   "cell_type": "code",
   "execution_count": 7,
   "id": "ccd428ee-2da8-4309-aa66-7a20356aab08",
   "metadata": {},
   "outputs": [
    {
     "data": {
      "text/plain": [
       "<Axes: >"
      ]
     },
     "execution_count": 7,
     "metadata": {},
     "output_type": "execute_result"
    },
    {
     "data": {
      "image/png": "[encoded data removed]",
      "text/plain": [
       "<Figure size 500x2000 with 1 Axes>"
      ]
     },
     "metadata": {},
     "output_type": "display_data"
    }
   ],
   "source": [
    "df['sum_gamerounds'].plot.box(figsize=(5,20))"
   ]
  },
  {
   "cell_type": "code",
   "execution_count": 16,
   "id": "a79424af-1bea-40fe-a0c3-cec089a02491",
   "metadata": {},
   "outputs": [
    {
     "data": {
      "text/plain": [
       "count    90189.000000\n",
       "mean        51.872457\n",
       "std        195.050858\n",
       "min          0.000000\n",
       "25%          5.000000\n",
       "50%         16.000000\n",
       "75%         51.000000\n",
       "max      49854.000000\n",
       "Name: sum_gamerounds, dtype: float64"
      ]
     },
     "execution_count": 16,
     "metadata": {},
     "output_type": "execute_result"
    }
   ],
   "source": [
    "df['sum_gamerounds'].describe()"
   ]
  },
  {
   "cell_type": "code",
   "execution_count": 17,
   "id": "bb2e9a2d-52fb-4d9f-bc95-28ee16264c58",
   "metadata": {},
   "outputs": [
    {
     "data": {
      "text/plain": [
       "sum_gamerounds\n",
       "0        3994\n",
       "1        5538\n",
       "2        4606\n",
       "3        3958\n",
       "4        3629\n",
       "         ... \n",
       "2294        1\n",
       "2438        1\n",
       "2640        1\n",
       "2961        1\n",
       "49854       1\n",
       "Name: userid, Length: 942, dtype: int64"
      ]
     },
     "execution_count": 17,
     "metadata": {},
     "output_type": "execute_result"
    }
   ],
   "source": [
    "#Counting the number of players for each number of gamerounds\n",
    "plot_df=df.groupby('sum_gamerounds')['userid'].count()\n",
    "plot_df"
   ]
  },
  {
   "cell_type": "code",
   "execution_count": 15,
   "id": "923b6faa-0182-43ef-8d13-85228bb0e4d0",
   "metadata": {},
   "outputs": [
    {
     "data": {
      "text/plain": [
       "Text(0.5, 0, '# Game rounds')"
      ]
     },
     "execution_count": 15,
     "metadata": {},
     "output_type": "execute_result"
    },
    {
     "data": {
      "image/png": "[encoded data removed]",
      "text/plain": [
       "<Figure size 1000x600 with 1 Axes>"
      ]
     },
     "metadata": {},
     "output_type": "display_data"
    }
   ],
   "source": [
    "#plot the distribution of players that played 0 to 100 game round during their week playing the game.\n",
    "%matplotlib inline\n",
    "ax = plot_df[:100].plot(figsize=(10,6))\n",
    "ax.set_title(\"The number of player that played 0-100 game rounds during the first week\")\n",
    "ax.set_ylabel(\"Number of Players\")\n",
    "ax.set_xlabel('# Game rounds')"
   ]
  },
  {
   "cell_type": "code",
   "execution_count": 50,
   "id": "8aebc15c-6843-4d0f-b0ae-55ca3e4430cd",
   "metadata": {},
   "outputs": [
    {
     "data": {
      "text/plain": [
       "version\n",
       "gate_30    0.448188\n",
       "gate_40    0.442283\n",
       "Name: retention_1, dtype: float64"
      ]
     },
     "execution_count": 50,
     "metadata": {},
     "output_type": "execute_result"
    }
   ],
   "source": []
  },
  {
   "cell_type": "markdown",
   "id": "aa33bdfc-36aa-4bf7-9670-b38f87adf610",
   "metadata": {},
   "source": [
    "Bootstring:Should we be condident in the difference?"
   ]
  },
  {
   "cell_type": "code",
   "execution_count": 18,
   "id": "31681b34-f4db-456d-bac8-7d12404bbd56",
   "metadata": {},
   "outputs": [
    {
     "data": {
      "text/html": [
       "<div>\n",
       "<style scoped>\n",
       "    .dataframe tbody tr th:only-of-type {\n",
       "        vertical-align: middle;\n",
       "    }\n",
       "\n",
       "    .dataframe tbody tr th {\n",
       "        vertical-align: top;\n",
       "    }\n",
       "\n",
       "    .dataframe thead th {\n",
       "        text-align: right;\n",
       "    }\n",
       "</style>\n",
       "<table border=\"1\" class=\"dataframe\">\n",
       "  <thead>\n",
       "    <tr style=\"text-align: right;\">\n",
       "      <th></th>\n",
       "      <th>userid</th>\n",
       "      <th>version</th>\n",
       "      <th>sum_gamerounds</th>\n",
       "      <th>retention_1</th>\n",
       "      <th>retention_7</th>\n",
       "    </tr>\n",
       "  </thead>\n",
       "  <tbody>\n",
       "    <tr>\n",
       "      <th>43033</th>\n",
       "      <td>4758366</td>\n",
       "      <td>gate_40</td>\n",
       "      <td>26</td>\n",
       "      <td>False</td>\n",
       "      <td>False</td>\n",
       "    </tr>\n",
       "    <tr>\n",
       "      <th>8943</th>\n",
       "      <td>983137</td>\n",
       "      <td>gate_30</td>\n",
       "      <td>24</td>\n",
       "      <td>True</td>\n",
       "      <td>False</td>\n",
       "    </tr>\n",
       "    <tr>\n",
       "      <th>20352</th>\n",
       "      <td>2262441</td>\n",
       "      <td>gate_40</td>\n",
       "      <td>51</td>\n",
       "      <td>False</td>\n",
       "      <td>False</td>\n",
       "    </tr>\n",
       "    <tr>\n",
       "      <th>75479</th>\n",
       "      <td>8358999</td>\n",
       "      <td>gate_30</td>\n",
       "      <td>23</td>\n",
       "      <td>True</td>\n",
       "      <td>False</td>\n",
       "    </tr>\n",
       "    <tr>\n",
       "      <th>45086</th>\n",
       "      <td>4995172</td>\n",
       "      <td>gate_40</td>\n",
       "      <td>79</td>\n",
       "      <td>True</td>\n",
       "      <td>False</td>\n",
       "    </tr>\n",
       "    <tr>\n",
       "      <th>...</th>\n",
       "      <td>...</td>\n",
       "      <td>...</td>\n",
       "      <td>...</td>\n",
       "      <td>...</td>\n",
       "      <td>...</td>\n",
       "    </tr>\n",
       "    <tr>\n",
       "      <th>48532</th>\n",
       "      <td>5381499</td>\n",
       "      <td>gate_30</td>\n",
       "      <td>10</td>\n",
       "      <td>False</td>\n",
       "      <td>False</td>\n",
       "    </tr>\n",
       "    <tr>\n",
       "      <th>75324</th>\n",
       "      <td>8341371</td>\n",
       "      <td>gate_40</td>\n",
       "      <td>37</td>\n",
       "      <td>False</td>\n",
       "      <td>False</td>\n",
       "    </tr>\n",
       "    <tr>\n",
       "      <th>57723</th>\n",
       "      <td>6392562</td>\n",
       "      <td>gate_40</td>\n",
       "      <td>28</td>\n",
       "      <td>False</td>\n",
       "      <td>False</td>\n",
       "    </tr>\n",
       "    <tr>\n",
       "      <th>9003</th>\n",
       "      <td>990297</td>\n",
       "      <td>gate_30</td>\n",
       "      <td>13</td>\n",
       "      <td>False</td>\n",
       "      <td>False</td>\n",
       "    </tr>\n",
       "    <tr>\n",
       "      <th>45046</th>\n",
       "      <td>4990882</td>\n",
       "      <td>gate_40</td>\n",
       "      <td>34</td>\n",
       "      <td>True</td>\n",
       "      <td>False</td>\n",
       "    </tr>\n",
       "  </tbody>\n",
       "</table>\n",
       "<p>90189 rows × 5 columns</p>\n",
       "</div>"
      ],
      "text/plain": [
       "        userid  version  sum_gamerounds  retention_1  retention_7\n",
       "43033  4758366  gate_40              26        False        False\n",
       "8943    983137  gate_30              24         True        False\n",
       "20352  2262441  gate_40              51        False        False\n",
       "75479  8358999  gate_30              23         True        False\n",
       "45086  4995172  gate_40              79         True        False\n",
       "...        ...      ...             ...          ...          ...\n",
       "48532  5381499  gate_30              10        False        False\n",
       "75324  8341371  gate_40              37        False        False\n",
       "57723  6392562  gate_40              28        False        False\n",
       "9003    990297  gate_30              13        False        False\n",
       "45046  4990882  gate_40              34         True        False\n",
       "\n",
       "[90189 rows x 5 columns]"
      ]
     },
     "execution_count": 18,
     "metadata": {},
     "output_type": "execute_result"
    }
   ],
   "source": [
    "df.sample(frac=1,replace=True)\n"
   ]
  },
  {
   "cell_type": "code",
   "execution_count": 52,
   "id": "cdcb58b3-6de5-42e5-8d3a-cdaaa08c1281",
   "metadata": {},
   "outputs": [
    {
     "data": {
      "text/plain": [
       "<Axes: xlabel='version', ylabel='sum_gamerounds'>"
      ]
     },
     "execution_count": 52,
     "metadata": {},
     "output_type": "execute_result"
    },
    {
     "data": {
      "image/png": "[encoded data removed]",
      "text/plain": [
       "<Figure size 640x480 with 1 Axes>"
      ]
     },
     "metadata": {},
     "output_type": "display_data"
    }
   ],
   "source": [
    "sns.pointplot(x='version',y='sum_gamerounds',hue='version',data=df,estimator=np.mean,errorbar=('ci', 99),\n",
    "              n_boot=1000,markers=\"o\",\n",
    "              linestyles=\":\")\n",
    "#30关和40关以后，玩的关卡总和的平均值"
   ]
  },
  {
   "cell_type": "code",
   "execution_count": 19,
   "id": "35235c7f-dc6d-4292-b7bc-4cd902ec503c",
   "metadata": {},
   "outputs": [
    {
     "data": {
      "text/plain": [
       "<Axes: xlabel='version', ylabel='sum_gamerounds'>"
      ]
     },
     "execution_count": 19,
     "metadata": {},
     "output_type": "execute_result"
    },
    {
     "data": {
      "image/png": "[encoded data removed]",
      "text/plain": [
       "<Figure size 640x480 with 1 Axes>"
      ]
     },
     "metadata": {},
     "output_type": "display_data"
    }
   ],
   "source": [
    "sns.violinplot(x='version',y='sum_gamerounds',hue='version',data=df,\n",
    "              hue_order=None, scale=\"area\",\n",
    "                        scale_hue=True, gridsize=100,\n",
    "                        width=.8, inner=\"quartile\",  saturation=.95)"
   ]
  },
  {
   "cell_type": "markdown",
   "id": "d69ccfbb-8ec2-4601-aa5d-9632880438db",
   "metadata": {},
   "source": [
    "Heatmap"
   ]
  },
  {
   "cell_type": "code",
   "execution_count": 26,
   "id": "b5e850ba-f440-4d80-92b3-8b5b43a8a467",
   "metadata": {},
   "outputs": [],
   "source": [
    "gate_30=df[df['version']=='gate_30']\n",
    "gate_40=df[df['version']=='gate_40']"
   ]
  },
  {
   "cell_type": "code",
   "execution_count": 27,
   "id": "ac1e5cbb-f5f0-4928-904c-285ba358df0b",
   "metadata": {},
   "outputs": [
    {
     "data": {
      "text/plain": [
       "<Axes: >"
      ]
     },
     "execution_count": 27,
     "metadata": {},
     "output_type": "execute_result"
    },
    {
     "data": {
      "image/png": "[encoded data removed]",
      "text/plain": [
       "<Figure size 1200x1000 with 4 Axes>"
      ]
     },
     "metadata": {},
     "output_type": "display_data"
    }
   ],
   "source": [
    "# 设置画布尺寸\n",
    "plt.figure(figsize=(12, 10))\n",
    "# 绘制第一个热力图\n",
    "plt.subplot(1, 2, 1)  # 1行2列，位置为1\n",
    "sns.heatmap(gate_30[[\"sum_gamerounds\",\"retention_1\",\"retention_7\"]].corr(),annot=True,fmt=\".2f\",cmap=\"coolwarm\")\n",
    "# 绘制第二个热力图\n",
    "plt.subplot(1, 2, 2)  # 1行2列，位置为1\n",
    "sns.heatmap(gate_40[[\"sum_gamerounds\",\"retention_1\",\"retention_7\"]].corr(),annot=True,fmt=\".2f\",cmap=\"coolwarm\")"
   ]
  },
  {
   "cell_type": "markdown",
   "id": "dfb456ab-0635-460d-8aa6-6b4cdd4f93e7",
   "metadata": {},
   "source": [
    "retention_1和retention_7之间的相关性是0.33，表明一个中等的正相关，这意味着如果一个玩家在第一天后继续玩游戏，他们在七天后仍在玩游戏的可能性也会增加。"
   ]
  },
  {
   "cell_type": "markdown",
   "id": "b29d2238-bee0-4781-b2e5-7c88d3bd1db9",
   "metadata": {},
   "source": [
    "\n",
    "comparing 1-day retention\n",
    "Overall 1-day retention"
   ]
  },
  {
   "cell_type": "code",
   "execution_count": 28,
   "id": "1ed3933c-ae0a-40ba-b1bf-3e1a72513e74",
   "metadata": {},
   "outputs": [
    {
     "data": {
      "text/plain": [
       "0.4452095044850259"
      ]
     },
     "execution_count": 28,
     "metadata": {},
     "output_type": "execute_result"
    }
   ],
   "source": [
    "df['retention_1'].mean()#retention_1 rate"
   ]
  },
  {
   "cell_type": "code",
   "execution_count": 29,
   "id": "744a60bd-347e-4364-ab4f-62decbe55db3",
   "metadata": {},
   "outputs": [
    {
     "data": {
      "text/plain": [
       "version\n",
       "gate_30    0.448188\n",
       "gate_40    0.442283\n",
       "Name: retention_1, dtype: float64"
      ]
     },
     "execution_count": 29,
     "metadata": {},
     "output_type": "execute_result"
    }
   ],
   "source": [
    "df.groupby('version')['retention_1'].mean()"
   ]
  },
  {
   "cell_type": "markdown",
   "id": "d63e0912-5f6b-445b-9176-fd2558b25a71",
   "metadata": {},
   "source": [
    "Bootstrapping：Should we be confident in the difference\n"
   ]
  },
  {
   "cell_type": "code",
   "execution_count": 92,
   "id": "a093c42b-8850-4f67-83af-c131c3b87331",
   "metadata": {},
   "outputs": [
    {
     "data": {
      "text/html": [
       "<div>\n",
       "<style scoped>\n",
       "    .dataframe tbody tr th:only-of-type {\n",
       "        vertical-align: middle;\n",
       "    }\n",
       "\n",
       "    .dataframe tbody tr th {\n",
       "        vertical-align: top;\n",
       "    }\n",
       "\n",
       "    .dataframe thead th {\n",
       "        text-align: right;\n",
       "    }\n",
       "</style>\n",
       "<table border=\"1\" class=\"dataframe\">\n",
       "  <thead>\n",
       "    <tr style=\"text-align: right;\">\n",
       "      <th></th>\n",
       "      <th>userid</th>\n",
       "      <th>version</th>\n",
       "      <th>sum_gamerounds</th>\n",
       "      <th>retention_1</th>\n",
       "      <th>retention_7</th>\n",
       "    </tr>\n",
       "  </thead>\n",
       "  <tbody>\n",
       "    <tr>\n",
       "      <th>44326</th>\n",
       "      <td>4908766</td>\n",
       "      <td>gate_30</td>\n",
       "      <td>5</td>\n",
       "      <td>False</td>\n",
       "      <td>False</td>\n",
       "    </tr>\n",
       "    <tr>\n",
       "      <th>52817</th>\n",
       "      <td>5864689</td>\n",
       "      <td>gate_30</td>\n",
       "      <td>112</td>\n",
       "      <td>False</td>\n",
       "      <td>True</td>\n",
       "    </tr>\n",
       "    <tr>\n",
       "      <th>62159</th>\n",
       "      <td>6886126</td>\n",
       "      <td>gate_30</td>\n",
       "      <td>92</td>\n",
       "      <td>False</td>\n",
       "      <td>True</td>\n",
       "    </tr>\n",
       "    <tr>\n",
       "      <th>12911</th>\n",
       "      <td>1430049</td>\n",
       "      <td>gate_30</td>\n",
       "      <td>58</td>\n",
       "      <td>True</td>\n",
       "      <td>False</td>\n",
       "    </tr>\n",
       "    <tr>\n",
       "      <th>81006</th>\n",
       "      <td>8971330</td>\n",
       "      <td>gate_40</td>\n",
       "      <td>54</td>\n",
       "      <td>True</td>\n",
       "      <td>False</td>\n",
       "    </tr>\n",
       "    <tr>\n",
       "      <th>...</th>\n",
       "      <td>...</td>\n",
       "      <td>...</td>\n",
       "      <td>...</td>\n",
       "      <td>...</td>\n",
       "      <td>...</td>\n",
       "    </tr>\n",
       "    <tr>\n",
       "      <th>34413</th>\n",
       "      <td>3811810</td>\n",
       "      <td>gate_30</td>\n",
       "      <td>18</td>\n",
       "      <td>False</td>\n",
       "      <td>False</td>\n",
       "    </tr>\n",
       "    <tr>\n",
       "      <th>7778</th>\n",
       "      <td>857117</td>\n",
       "      <td>gate_30</td>\n",
       "      <td>40</td>\n",
       "      <td>False</td>\n",
       "      <td>False</td>\n",
       "    </tr>\n",
       "    <tr>\n",
       "      <th>13330</th>\n",
       "      <td>1477488</td>\n",
       "      <td>gate_30</td>\n",
       "      <td>23</td>\n",
       "      <td>True</td>\n",
       "      <td>False</td>\n",
       "    </tr>\n",
       "    <tr>\n",
       "      <th>5976</th>\n",
       "      <td>660487</td>\n",
       "      <td>gate_40</td>\n",
       "      <td>169</td>\n",
       "      <td>True</td>\n",
       "      <td>False</td>\n",
       "    </tr>\n",
       "    <tr>\n",
       "      <th>10713</th>\n",
       "      <td>1183395</td>\n",
       "      <td>gate_40</td>\n",
       "      <td>18</td>\n",
       "      <td>True</td>\n",
       "      <td>False</td>\n",
       "    </tr>\n",
       "  </tbody>\n",
       "</table>\n",
       "<p>90189 rows × 5 columns</p>\n",
       "</div>"
      ],
      "text/plain": [
       "        userid  version  sum_gamerounds  retention_1  retention_7\n",
       "44326  4908766  gate_30               5        False        False\n",
       "52817  5864689  gate_30             112        False         True\n",
       "62159  6886126  gate_30              92        False         True\n",
       "12911  1430049  gate_30              58         True        False\n",
       "81006  8971330  gate_40              54         True        False\n",
       "...        ...      ...             ...          ...          ...\n",
       "34413  3811810  gate_30              18        False        False\n",
       "7778    857117  gate_30              40        False        False\n",
       "13330  1477488  gate_30              23         True        False\n",
       "5976    660487  gate_40             169         True        False\n",
       "10713  1183395  gate_40              18         True        False\n",
       "\n",
       "[90189 rows x 5 columns]"
      ]
     },
     "execution_count": 92,
     "metadata": {},
     "output_type": "execute_result"
    }
   ],
   "source": [
    "df.sample(frac=1,replace=True)"
   ]
  },
  {
   "cell_type": "code",
   "execution_count": 31,
   "id": "5703a8b2-0b64-40bb-9392-86b46b9dba3c",
   "metadata": {},
   "outputs": [
    {
     "data": {
      "text/plain": [
       "version\n",
       "gate_30    0.449389\n",
       "gate_40    0.443006\n",
       "Name: retention_1, dtype: float64"
      ]
     },
     "execution_count": 31,
     "metadata": {},
     "output_type": "execute_result"
    }
   ],
   "source": [
    "df.sample(frac=1,replace=True).groupby('version')['retention_1'].mean()"
   ]
  },
  {
   "cell_type": "code",
   "execution_count": 39,
   "id": "e56463b4-91e2-4d98-92d4-8e436cec7252",
   "metadata": {},
   "outputs": [
    {
     "data": {
      "text/plain": [
       "<Axes: ylabel='Density'>"
      ]
     },
     "execution_count": 39,
     "metadata": {},
     "output_type": "execute_result"
    },
    {
     "data": {
      "image/png": "[encoded data removed]",
      "text/plain": [
       "<Figure size 640x480 with 1 Axes>"
      ]
     },
     "metadata": {},
     "output_type": "display_data"
    }
   ],
   "source": [
    "#Creating an list with bootstrapped means for each AB-group\n",
    "boot_1d=[]\n",
    "for i in range(1000):\n",
    "    boot_mean=df.sample(frac=1,replace=True).groupby('version')['retention_1'].mean()\n",
    "    boot_1d.append(boot_mean)\n",
    "\n",
    "#Transforming the list to a DataFrame\n",
    "boot_1d=pd.DataFrame(boot_1d)\n",
    "\n",
    "#A Kernel Density Estimate plot of the bootstap distributions\n",
    "boot_1d.plot(kind='density')"
   ]
  },
  {
   "cell_type": "code",
   "execution_count": 43,
   "id": "4ef24d3b-f8d0-467b-bdb4-85bfc3e9561d",
   "metadata": {},
   "outputs": [
    {
     "name": "stdout",
     "output_type": "stream",
     "text": [
      "Probability that 1-day retention is greater when the gate is at level 30: 0.953\n"
     ]
    },
    {
     "data": {
      "image/png": "[encoded data removed]",
      "text/plain": [
       "<Figure size 640x480 with 1 Axes>"
      ]
     },
     "metadata": {},
     "output_type": "display_data"
    }
   ],
   "source": [
    "#Adding a column with the % difference between the two AB-Groups\n",
    "boot_1d['diff']=(boot_1d.gate_30-boot_1d.gate_40)/boot_1d.gate_40*100\n",
    "#Ploting the bootstrap%difference\n",
    "ax=boot_1d['diff'].plot(kind='density')\n",
    "ax.set_title('% difference in 1-day retntion between the two AB-groups')\n",
    "\n",
    "# Calculating the probability that 1-day retention is greater when the gate is at level 30\n",
    "print('Probability that 1-day retention is greater when the gate is at level 30:',(boot_1d['diff'] > 0).mean())"
   ]
  },
  {
   "cell_type": "markdown",
   "id": "b62128b2-a937-46ec-bb2f-71272f99af21",
   "metadata": {},
   "source": [
    "#从这个图中我们可以看出，最可能的留存率百分比差异大约是1%到2%之间，这个差异表明，将游戏中的关卡门槛设定在30级时，1天内的用户留存率相对于对照组有所提高。图表中还提到了0.962的值，这表示有96.2%的概率，当门槽位于30级时，1天内的留存率会更高"
   ]
  },
  {
   "cell_type": "markdown",
   "id": "777d4be4-3f8d-48b6-98ca-4dad4443e183",
   "metadata": {},
   "source": [
    "Comparing 7-day Retention"
   ]
  },
  {
   "cell_type": "code",
   "execution_count": 48,
   "id": "c0ac30cd-8d9d-4dfe-a017-74285dc36a57",
   "metadata": {},
   "outputs": [
    {
     "data": {
      "text/plain": [
       "version\n",
       "gate_30    0.190201\n",
       "gate_40    0.182000\n",
       "Name: retention_7, dtype: float64"
      ]
     },
     "execution_count": 48,
     "metadata": {},
     "output_type": "execute_result"
    }
   ],
   "source": [
    "df.groupby('version')['retention_7'].mean()"
   ]
  },
  {
   "cell_type": "markdown",
   "id": "c7863e03-83c8-468e-a7b1-c8c276351257",
   "metadata": {},
   "source": [
    "###### creating a list with bootstrapped means for each AB-group\n",
    "boot_7d=[]\n",
    "for i in range(500):\n",
    "    boot_mean=df.sample(frac=1,replace=True).groupby('version')['retention_7'].mean()\n",
    "    boot_7d.append(boot_mean)\n",
    "\n",
    "#Transforming the list to a DataFrame\n",
    "boot_7d=pd.DataFrame(boot_7d)\n",
    "# Adding a column with the % difference between the two AB-groups\n",
    "boot_7d['diff'] = (boot_7d.gate_30 - boot_7d.gate_40)/boot_7d.gate_40*100\n",
    "\n",
    "# Ploting the bootstrap % difference\n",
    "ax = boot_7d['diff'].plot(kind='density')\n",
    "ax.set_title('% difference in 7-day retention between the two AB-groups')\n",
    "\n",
    "# Calculating the probability that 7-day retention is greater when the gate is at level 30\n",
    "print('Probability that 7-day retention is greater when the gate is at level 30:',(boot_7d['diff'] > 0).mean())"
   ]
  },
  {
   "cell_type": "markdown",
   "id": "67ed26ca-6f34-4985-a2fd-f6942b6f5e89",
   "metadata": {},
   "source": [
    "7天留存gata30比gate40高的概率是99.6%"
   ]
  },
  {
   "cell_type": "markdown",
   "id": "3f09ba04-e781-43e3-8ddc-11f277676add",
   "metadata": {},
   "source": [
    "Z-test in statsmodels"
   ]
  },
  {
   "cell_type": "markdown",
   "id": "cfa5698e-08df-499d-8d96-c954cddd5304",
   "metadata": {},
   "source": [
    "Let's assume that the gate40  have higher intention rate than the gate30 at 5% Type I error. So the hypothesis woule be:\n"
   ]
  },
  {
   "cell_type": "markdown",
   "id": "16b0fe0b-d763-4219-b82f-ddb7c890f2e8",
   "metadata": {},
   "source": [
    "null：𝑝30  - 𝑝40 <=0\n",
    "\n",
    "alternative：𝑝30  - 𝑝40 >0"
   ]
  },
  {
   "cell_type": "code",
   "execution_count": 56,
   "id": "47491927-96d7-442a-ad21-7f3ae433fda6",
   "metadata": {},
   "outputs": [],
   "source": [
    "import statsmodels.api as sm"
   ]
  },
  {
   "cell_type": "code",
   "execution_count": 62,
   "id": "da08afb3-0b4f-4584-a522-e08c27b1206c",
   "metadata": {},
   "outputs": [
    {
     "data": {
      "text/plain": [
       "(20034, 20119, 44700, 45489)"
      ]
     },
     "execution_count": 62,
     "metadata": {},
     "output_type": "execute_result"
    }
   ],
   "source": [
    "convert_gate_30_1 = df[df.version == 'gate_30'].retention_1.sum()\n",
    "convert_gate_40_1 = df[df.version == 'gate_40'].retention_1.sum()\n",
    "n_gate_30_1 = len(df[df.version == 'gate_30'].retention_1)\n",
    "n_gate_40_1 = len(df[df.version == 'gate_40'].retention_1)\n",
    "\n",
    "convert_gate_30_1,convert_gate_40_1,n_gate_30_1,n_gate_40_1"
   ]
  },
  {
   "cell_type": "code",
   "execution_count": 83,
   "id": "5b64b688-94d7-41aa-b3a2-377e96bea963",
   "metadata": {},
   "outputs": [
    {
     "name": "stdout",
     "output_type": "stream",
     "text": [
      "        Views  Converts         Conversion %\n",
      "Gate30  44700     20034  44.800000000000004%\n",
      "Gate40  45489     20119                44.2%\n"
     ]
    }
   ],
   "source": [
    "# 定义数据字典\n",
    "conversion_dict = {\n",
    "    'Views': {'Gate30': n_gate_30_1 ,'Gate40': n_gate_40_1},\n",
    "    'Converts': {'Gate30': convert_gate_30_1, 'Gate40': convert_gate_40_1}}\n",
    "\n",
    "# 创建DataFrame\n",
    "conversion_table = pd.DataFrame(conversion_dict)\n",
    "conversion_table['Conversion %'] = conversion_table['Converts'] / conversion_table['Views']\n",
    "conversion_table['Conversion %'] = conversion_table['Conversion %'].apply(lambda x: str(np.round(x,3)*100)+'%')\n",
    "print(conversion_table)"
   ]
  },
  {
   "cell_type": "code",
   "execution_count": 82,
   "id": "0b08f3aa-e150-458d-9c7e-37f2eb1f302e",
   "metadata": {},
   "outputs": [
    {
     "data": {
      "text/plain": [
       "(1.7840862247974725, 0.03720482764845957)"
      ]
     },
     "execution_count": 82,
     "metadata": {},
     "output_type": "execute_result"
    }
   ],
   "source": [
    "z_score, p_value = sm.stats.proportions_ztest([convert_gate_30_1, convert_gate_40_1], [n_gate_30_1, n_gate_40_1], alternative='larger')\n",
    "z_score, p_value"
   ]
  },
  {
   "cell_type": "markdown",
   "id": "b3c812b1-22bf-445c-b6b6-5e3e429260ee",
   "metadata": {},
   "source": [
    "Z得分是1.78，P值是0.037，意味着在5%的显著性水平上，30级门槛的1天留存率显著高于40级的"
   ]
  },
  {
   "cell_type": "code",
   "execution_count": 63,
   "id": "713edf5e-b4fb-4cce-b35a-55320618e60f",
   "metadata": {},
   "outputs": [
    {
     "data": {
      "text/plain": [
       "(8502, 8279, 44700, 45489)"
      ]
     },
     "execution_count": 63,
     "metadata": {},
     "output_type": "execute_result"
    }
   ],
   "source": [
    "convert_gate_30_7 = df[df.version == 'gate_30'].retention_7.sum()\n",
    "convert_gate_40_7 = df[df.version == 'gate_40'].retention_7.sum()\n",
    "n_gate_30_7 = len(df[df.version == 'gate_30'].retention_7)\n",
    "n_gate_40_7 = len(df[df.version == 'gate_40'].retention_7)\n",
    "\n",
    "convert_gate_30_7,convert_gate_40_7,n_gate_30_7,n_gate_40_7"
   ]
  },
  {
   "cell_type": "code",
   "execution_count": 84,
   "id": "95aaa0ba-5d05-467f-aa22-05dd2f0e6402",
   "metadata": {},
   "outputs": [
    {
     "name": "stdout",
     "output_type": "stream",
     "text": [
      "        Views  Converts Conversion %\n",
      "Gate30  44700      8502        19.0%\n",
      "Gate40  45489      8279        18.2%\n"
     ]
    }
   ],
   "source": [
    "# 定义数据字典\n",
    "conversion_dict = {\n",
    "    'Views': {'Gate30': n_gate_30_7 ,'Gate40': n_gate_40_7},\n",
    "    'Converts': {'Gate30': convert_gate_30_7, 'Gate40': convert_gate_40_7}}\n",
    "\n",
    "# 创建DataFrame\n",
    "conversion_table = pd.DataFrame(conversion_dict)\n",
    "conversion_table['Conversion %'] = conversion_table['Converts'] / conversion_table['Views']\n",
    "conversion_table['Conversion %'] = conversion_table['Conversion %'].apply(lambda x: str(np.round(x,3)*100)+'%')\n",
    "print(conversion_table)"
   ]
  },
  {
   "cell_type": "code",
   "execution_count": 60,
   "id": "1fc4da49-1923-4f13-9ddd-63b6b0d800e6",
   "metadata": {},
   "outputs": [
    {
     "data": {
      "text/plain": [
       "(3.164358912748191, 0.0007771249878071645)"
      ]
     },
     "execution_count": 60,
     "metadata": {},
     "output_type": "execute_result"
    }
   ],
   "source": [
    "z_score, p_value = sm.stats.proportions_ztest([convert_gate_30, convert_gate_40], [n_gate_30, n_gate_40], alternative='larger')\n",
    "z_score, p_value"
   ]
  },
  {
   "cell_type": "markdown",
   "id": "8a02c4c5-04cb-4d91-ab1f-4cceb614b12e",
   "metadata": {},
   "source": [
    "Z_score是3.16，P值是0.00077，这意味着30级的7天留存率显著高于40级的留存率。"
   ]
  },
  {
   "cell_type": "markdown",
   "id": "58476eaa-583c-4400-9f8f-17d9821d75a8",
   "metadata": {},
   "source": [
    "Z-test in our way"
   ]
  },
  {
   "cell_type": "code",
   "execution_count": 66,
   "id": "9046ee0c-5d20-4dd0-8377-914955714cea",
   "metadata": {},
   "outputs": [],
   "source": [
    "def z_test(p1,p0,n1,n0):\n",
    "    delta = p1-p0\n",
    "    p = (p1*n1 + p0*n0) / (n1+n0)\n",
    "    return delta / np.sqrt(p*(1-p)*(1/n1 + 1/n0))"
   ]
  },
  {
   "cell_type": "markdown",
   "id": "5d850d61-cbc7-4b73-a8f6-98af4e196b39",
   "metadata": {},
   "source": [
    "gate_30 1-day retention"
   ]
  },
  {
   "cell_type": "code",
   "execution_count": 67,
   "id": "8507a0b7-5e32-46b8-b109-85aa905835fd",
   "metadata": {},
   "outputs": [],
   "source": [
    "p1 = convert_gate_30_1 / n_gate_30_1\n",
    "p0 = convert_gate_40_1/ n_gate_40_1\n",
    "n1 = n_gate_30_1\n",
    "n0 = n_gate_40_1"
   ]
  },
  {
   "cell_type": "code",
   "execution_count": 68,
   "id": "3eb81e55-8076-4770-8eb4-0bad83fb87d8",
   "metadata": {},
   "outputs": [
    {
     "data": {
      "text/plain": [
       "1.7840862247974725"
      ]
     },
     "execution_count": 68,
     "metadata": {},
     "output_type": "execute_result"
    }
   ],
   "source": [
    "z_value = z_test(p1,p0,n1,n0)\n",
    "z_value"
   ]
  },
  {
   "cell_type": "code",
   "execution_count": 69,
   "id": "36d48f7d-6e31-4abd-a674-0ec693de2e26",
   "metadata": {},
   "outputs": [
    {
     "data": {
      "text/plain": [
       "0.03720482764845956"
      ]
     },
     "execution_count": 69,
     "metadata": {},
     "output_type": "execute_result"
    }
   ],
   "source": [
    "from scipy.stats import norm\n",
    "p_value = 1- norm.cdf(z_value)\n",
    "\n",
    "p_value"
   ]
  },
  {
   "cell_type": "markdown",
   "id": "d48b6e87-b122-42a3-85b1-57ef6ce93428",
   "metadata": {},
   "source": [
    "gate_30 7-day retention"
   ]
  },
  {
   "cell_type": "code",
   "execution_count": 71,
   "id": "1431a2f0-db84-4f34-b55e-209610fa9854",
   "metadata": {},
   "outputs": [],
   "source": [
    "p1 = convert_gate_30_7/ n_gate_30_7\n",
    "p0 = convert_gate_40_7/ n_gate_40_7\n",
    "n1 = n_gate_30_7\n",
    "n0 = n_gate_40_7"
   ]
  },
  {
   "cell_type": "code",
   "execution_count": 72,
   "id": "58c7831c-a2d2-4969-8c34-cab2d6ddfbb5",
   "metadata": {},
   "outputs": [
    {
     "data": {
      "text/plain": [
       "3.164358912748191"
      ]
     },
     "execution_count": 72,
     "metadata": {},
     "output_type": "execute_result"
    }
   ],
   "source": [
    "z_value = z_test(p1,p0,n1,n0)\n",
    "z_value"
   ]
  },
  {
   "cell_type": "code",
   "execution_count": 73,
   "id": "05722a3a-09eb-4a71-9a1a-924e78e8d7ad",
   "metadata": {},
   "outputs": [
    {
     "data": {
      "text/plain": [
       "0.0007771249878071318"
      ]
     },
     "execution_count": 73,
     "metadata": {},
     "output_type": "execute_result"
    }
   ],
   "source": [
    "from scipy.stats import norm\n",
    "p_value = 1- norm.cdf(z_value)\n",
    "\n",
    "p_value"
   ]
  },
  {
   "cell_type": "code",
   "execution_count": null,
   "id": "c096d884-4670-487a-88d6-a7f9110e74c9",
   "metadata": {},
   "outputs": [],
   "source": []
  }
 ],
 "metadata": {
  "kernelspec": {
   "display_name": "Python 3 (ipykernel)",
   "language": "python",
   "name": "python3"
  },
  "language_info": {
   "codemirror_mode": {
    "name": "ipython",
    "version": 3
   },
   "file_extension": ".py",
   "mimetype": "text/x-python",
   "name": "python",
   "nbconvert_exporter": "python",
   "pygments_lexer": "ipython3",
   "version": "3.11.5"
  }
 },
 "nbformat": 4,
 "nbformat_minor": 5
}
